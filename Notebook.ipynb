{
 "cells": [
  {
   "cell_type": "markdown",
   "metadata": {},
   "source": [
    "# Ch. 2"
   ]
  },
  {
   "cell_type": "markdown",
   "metadata": {},
   "source": [
    "* instantiation: The process of creating a new instance of a class.\n",
    "* identifier: The name of variable.\n",
    "* "
   ]
  },
  {
   "cell_type": "markdown",
   "metadata": {},
   "source": [
    "## 4.1 Illustrative Example"
   ]
  },
  {
   "cell_type": "code",
   "execution_count": 8,
   "metadata": {
    "collapsed": true
   },
   "outputs": [],
   "source": [
    "def draw_line(tick_length, tick_label=''):\n",
    "    \"\"\"Draw one line with given tick length (followed by optional label).\"\"\"\n",
    "    line = '-' * tick_length\n",
    "    if tick_label:\n",
    "        line += (' ' + tick_label)\n",
    "    print line\n",
    "    \n",
    "def draw_interval(center_length):\n",
    "    \"\"\"Draw tick interval based upon a central tick length.\"\"\"\n",
    "    if center_length > 0:\n",
    "        draw_interval(center_length-1)\n",
    "        draw_line(center_length)\n",
    "        draw_interval(center_length-1)\n",
    "\n",
    "def draw_ruler(num_inches, major_length):\n",
    "    draw_line(major_length, '0')\n",
    "    for label in xrange(1, num_inches+1):\n",
    "        draw_interval(major_length-1)\n",
    "        draw_line(major_length, str(label))"
   ]
  },
  {
   "cell_type": "code",
   "execution_count": 10,
   "metadata": {
    "collapsed": false
   },
   "outputs": [],
   "source": [
    "def binary_search(data, target):\n",
    "    data.sort()\n",
    "    L, R = 0, len(data)-1\n",
    "    while L <= R:\n",
    "        mid = (L+R)/2\n",
    "        if data[mid] == target:\n",
    "            return True\n",
    "        elif data[mid] < target:\n",
    "            L = mid+1\n",
    "        else:\n",
    "            R = mid-1\n",
    "    return False"
   ]
  },
  {
   "cell_type": "markdown",
   "metadata": {},
   "source": [
    "## 4.3 Recursion Run Amok"
   ]
  },
  {
   "cell_type": "code",
   "execution_count": 34,
   "metadata": {
    "collapsed": true
   },
   "outputs": [],
   "source": [
    "def bad_fibonacci(n):\n",
    "    if n <= 0:\n",
    "        return 0\n",
    "    elif n == 1:\n",
    "        return 1\n",
    "    else:\n",
    "        return bad_fibonacci(n-1)+bad_fibonacci(n-2)\n",
    "def good_fibonacci(n):\n",
    "    if n <= 0:\n",
    "        return (0, 0)\n",
    "    elif n == 1:\n",
    "        return (1, 0)\n",
    "    else:\n",
    "        (a, b) = good_fibonacci(n-1)\n",
    "        return (a+b, a)"
   ]
  },
  {
   "cell_type": "code",
   "execution_count": 38,
   "metadata": {
    "collapsed": false,
    "scrolled": true
   },
   "outputs": [
    {
     "data": {
      "text/plain": [
       "8"
      ]
     },
     "execution_count": 38,
     "metadata": {},
     "output_type": "execute_result"
    }
   ],
   "source": [
    "bad_fibonacci(6)"
   ]
  },
  {
   "cell_type": "markdown",
   "metadata": {
    "collapsed": true
   },
   "source": [
    "## 2.3 Class Definitions"
   ]
  },
  {
   "cell_type": "code",
   "execution_count": 1,
   "metadata": {
    "collapsed": true
   },
   "outputs": [],
   "source": [
    "class CreditCard:\n",
    "    \"\"\" A simple consumer credit card.\"\"\"\n",
    "    def __init__(self, customer, bank, acnt, limit):\n",
    "        \"\"\"Create a new credit card instance.\n",
    "        \n",
    "        The initial balance is zero.\n",
    "        \n",
    "        customer: The name of the customer (e.g., John Bowman )\n",
    "        bank:     The name of the bank (e.g., California Savings ) \n",
    "        acnt:     The acount identifier (e.g., 5391 0375 9387 5309 ) \n",
    "        limit:    Credit limit (measured in dollars)\n",
    "        \"\"\"\n",
    "        self._customer = customer\n",
    "        self._bank = bank\n",
    "        self._acnt = acnt\n",
    "        self._limit = limit\n",
    "        self._balance = 0\n",
    "    \n",
    "    def get_customer(self):\n",
    "        \"\"\"Return name of the customer.\"\"\"\n",
    "        return self._customer\n",
    "    def get_bank(self):\n",
    "        \"\"\"Return name of the bank.\"\"\"\n",
    "        return self._bank\n",
    "    def get_account(self):\n",
    "        \"\"\"Return the card identifying number (typically stored as a string).\"\"\"\n",
    "        return self._acnt\n",
    "    def get_limit(self):\n",
    "        \"\"\"Return current credit limit.\"\"\"\n",
    "        return self._limit\n",
    "    def get_balance(self):\n",
    "        \"\"\"Return current balance.\"\"\"\n",
    "        return self._balance\n",
    "    def charge(self, price):\n",
    "        \"\"\"Charge given price to the card, assuming sufficient credit limit.\n",
    "        \n",
    "        Return True if charge was processed; False if charge was denied.\"\"\"\n",
    "        if price + self._balance > self._limit:\n",
    "            return False\n",
    "        else:\n",
    "            self._balance += price\n",
    "            return True\n",
    "    def make_payment(self, amount):\n",
    "        \"\"\"Process customer payment that reduces balance.\n",
    "        \n",
    "        Return True if payment was processed; False if payment was denied.\"\"\"\n",
    "        if self._balance - amount >= 0:\n",
    "            self._balance -= amount\n",
    "            return True\n",
    "        else:\n",
    "            return False"
   ]
  },
  {
   "cell_type": "markdown",
   "metadata": {},
   "source": [
    "## 1.8 Iterators and Generators"
   ]
  },
  {
   "cell_type": "code",
   "execution_count": 1,
   "metadata": {
    "collapsed": true
   },
   "outputs": [],
   "source": [
    "# Simple example for generators\n",
    "def factors(n):\n",
    "    for k in range(1, n+1):\n",
    "        if n % k == 0:\n",
    "            yield k"
   ]
  },
  {
   "cell_type": "code",
   "execution_count": null,
   "metadata": {
    "collapsed": true
   },
   "outputs": [],
   "source": []
  }
 ],
 "metadata": {
  "kernelspec": {
   "display_name": "Python 2",
   "language": "python",
   "name": "python2"
  },
  "language_info": {
   "codemirror_mode": {
    "name": "ipython",
    "version": 2
   },
   "file_extension": ".py",
   "mimetype": "text/x-python",
   "name": "python",
   "nbconvert_exporter": "python",
   "pygments_lexer": "ipython2",
   "version": "2.7.11"
  }
 },
 "nbformat": 4,
 "nbformat_minor": 0
}
